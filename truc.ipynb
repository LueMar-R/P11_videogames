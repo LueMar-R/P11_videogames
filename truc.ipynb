{
 "cells": [
  {
   "cell_type": "markdown",
   "metadata": {},
   "source": [
    "Rédiger un Notebook contenant le MCD, une description du travail de création des bases et le code SQL des vues et des procédures"
   ]
  },
  {
   "cell_type": "markdown",
   "metadata": {},
   "source": [
    "# MCD"
   ]
  },
  {
   "cell_type": "code",
   "execution_count": null,
   "metadata": {},
   "outputs": [],
   "source": []
  },
  {
   "cell_type": "markdown",
   "metadata": {},
   "source": [
    "# Description du travail de création des bases"
   ]
  },
  {
   "cell_type": "markdown",
   "metadata": {},
   "source": [
    "Dans un premier temps nous avons réfléchi à comment découper le dataset pour choisir les différentes tables à créer.\n",
    "\n",
    "Ensuite nous avons séparé le travail en plusieurs tâches:\n",
    "\n",
    "- la création de la base de données et des tables\n",
    "- le traitement des données pour nettoyer des valeurs manquantes, création de nouveaux fichiers csv pour simplifier l'intégration des données et le remplacement des valeurs qualitatives par leurs id respectifs"
   ]
  },
  {
   "cell_type": "markdown",
   "metadata": {},
   "source": [
    "## Création de la bdd"
   ]
  },
  {
   "cell_type": "markdown",
   "metadata": {},
   "source": [
    "Nous nous sommes fixés sur une table \"principale\" et trois tables \"indépendantes\":\n",
    "- table *genre* (indépendante): indique l'id et le genre de jeu\n",
    "- table *publisher* (indépendante): indique l'id et l'éditeur du jeu\n",
    "- table *plateforme* (indépendante): indique l'id et la plateforme\n",
    "- table *vente* (principale): va renseigner toutes les entrées restantes\n",
    "    - id_vente\n",
    "    - rank : le classement du jeu en fonction de ses ventes dans le monde\n",
    "    - nom_jeu : nom du jeu\n",
    "    - id_plateforme\n",
    "    - annee : année de sortie du jeu\n",
    "    - id_genre\n",
    "    - id_publisher\n",
    "    - NA_sales : ventes en Amérique du nord\n",
    "    - EU_sales : ventes en Europe\n",
    "    - JP_sales : ventes au Japon\n",
    "    - Other_sales : ventes dans les autres pays\n",
    "    - Global_sales : ventes totales dans le monde"
   ]
  },
  {
   "cell_type": "markdown",
   "metadata": {},
   "source": [
    "## Traitement des données"
   ]
  },
  {
   "cell_type": "markdown",
   "metadata": {},
   "source": [
    "#### Importation des bibliothèques "
   ]
  },
  {
   "cell_type": "code",
   "execution_count": 2,
   "metadata": {},
   "outputs": [],
   "source": [
    "import pandas as pd\n",
    "import matplotlib as mp\n",
    "import matplotlib.pyplot as plt\n",
    "from data_base import Bdd"
   ]
  },
  {
   "cell_type": "markdown",
   "metadata": {},
   "source": [
    "#### Importation des données"
   ]
  },
  {
   "cell_type": "code",
   "execution_count": 3,
   "metadata": {},
   "outputs": [],
   "source": [
    "df = pd.read_csv(\"vgsales_debase.csv\")"
   ]
  },
  {
   "cell_type": "markdown",
   "metadata": {},
   "source": [
    "#### Affichage des information de la bdd"
   ]
  },
  {
   "cell_type": "code",
   "execution_count": 4,
   "metadata": {},
   "outputs": [
    {
     "name": "stdout",
     "output_type": "stream",
     "text": [
      "<class 'pandas.core.frame.DataFrame'>\n",
      "RangeIndex: 16598 entries, 0 to 16597\n",
      "Data columns (total 11 columns):\n",
      " #   Column        Non-Null Count  Dtype  \n",
      "---  ------        --------------  -----  \n",
      " 0   Rank          16598 non-null  int64  \n",
      " 1   Name          16598 non-null  object \n",
      " 2   Platform      16598 non-null  object \n",
      " 3   Year          16327 non-null  float64\n",
      " 4   Genre         16598 non-null  object \n",
      " 5   Publisher     16540 non-null  object \n",
      " 6   NA_Sales      16598 non-null  float64\n",
      " 7   EU_Sales      16598 non-null  float64\n",
      " 8   JP_Sales      16598 non-null  float64\n",
      " 9   Other_Sales   16598 non-null  float64\n",
      " 10  Global_Sales  16598 non-null  float64\n",
      "dtypes: float64(6), int64(1), object(4)\n",
      "memory usage: 1.4+ MB\n"
     ]
    }
   ],
   "source": [
    "df.info()"
   ]
  },
  {
   "cell_type": "markdown",
   "metadata": {},
   "source": [
    "On peut voir que l'on a dans la colonne *Year* 271 valeurs sont nulles et que la colonne *Publisher* en a 58.\n",
    "\n",
    "Pour la colonne *Plublisher*, ça ne pose pas de problèmes, il s'agit de chaînes de caractères du coup on pourra les transformer sans imputer la bdd.\n",
    "\n",
    "Pour la colonne *Year* ça sera plus compliqué. Les valeurs étant des integer, les remplacer par des string poserait problème tout comme mettre des valeurs standards. On a donc fait le choix de supprimer les lignes correspondantes (cela repésentait une perte de 1,6% des données)"
   ]
  },
  {
   "cell_type": "markdown",
   "metadata": {},
   "source": [
    "#### Remplacement des valeurs nulles dans Publisher"
   ]
  },
  {
   "cell_type": "code",
   "execution_count": null,
   "metadata": {},
   "outputs": [],
   "source": [
    "df['Publisher'] = df['Publisher'].fillna('unknow')"
   ]
  },
  {
   "cell_type": "markdown",
   "metadata": {},
   "source": [
    "#### suppression des lignes contenant des Nan (uniquement contenus dans la colonne Year qui seraient compliqués à remplacer)"
   ]
  },
  {
   "cell_type": "code",
   "execution_count": null,
   "metadata": {},
   "outputs": [],
   "source": [
    "df = df.dropna()"
   ]
  },
  {
   "cell_type": "markdown",
   "metadata": {},
   "source": [
    "#### Remplacement des valeurs par leurs id"
   ]
  },
  {
   "cell_type": "code",
   "execution_count": null,
   "metadata": {},
   "outputs": [],
   "source": []
  },
  {
   "cell_type": "markdown",
   "metadata": {},
   "source": [
    "### Création des procédures"
   ]
  },
  {
   "cell_type": "code",
   "execution_count": null,
   "metadata": {},
   "outputs": [],
   "source": []
  },
  {
   "cell_type": "markdown",
   "metadata": {},
   "source": [
    "##### procédure qui affiche les jeux d'un genre donné"
   ]
  },
  {
   "cell_type": "markdown",
   "metadata": {},
   "source": [
    "````SQL    \n",
    "    delimiter //\n",
    "        create procedure jeu_genre \n",
    "        (in genres varchar (50))\n",
    "        begin \n",
    "            SELECT nom_jeu, nom_plateforme, annee, nom_genre, nom_publisher, global_sales \n",
    "            FROM ventes \n",
    "            JOIN genre on genre.id_genre = ventes.id_genre\n",
    "            JOIN plateforme on plateforme.id_plateforme = ventes.id_plateforme\n",
    "            JOIN publisher on publisher.id_publisher = ventes.id_publisher\n",
    "            WHERE nom_genre = genres\n",
    "            ORDER by global_sales;\n",
    "        end //\n",
    "    delimiter ;\n",
    "    \n",
    "    call jeu_genre ()\n",
    "````"
   ]
  },
  {
   "cell_type": "markdown",
   "metadata": {},
   "source": [
    "##### procédure qui affiche les jeux en fonction de la plateforme"
   ]
  },
  {
   "cell_type": "markdown",
   "metadata": {},
   "source": [
    "````SQL\n",
    "    delimiter //\n",
    "        create procedure jeu_plateforme \n",
    "        (in plateformes varchar (50))\n",
    "        begin \n",
    "            SELECT * \n",
    "            FROM ventes \n",
    "            JOIN plateforme on plateforme.id_plateforme = ventes.id_plateforme\n",
    "            WHERE plateforme = plateformes;\n",
    "        end //\n",
    "    delimiter ; \n",
    "    \n",
    "    call jeu_plateforme ()\n",
    "````"
   ]
  },
  {
   "cell_type": "markdown",
   "metadata": {},
   "source": [
    "##### procédure qui affiche les jeux en fonction du publisher"
   ]
  },
  {
   "cell_type": "markdown",
   "metadata": {},
   "source": [
    "````SQL\n",
    "    delimiter //\n",
    "        create procedure jeu_publisher \n",
    "        (in publishers varchar (100))\n",
    "        begin \n",
    "            select * \n",
    "            from ventes \n",
    "            join publisher on publisher.id_publisher = ventes.id_publisher\n",
    "            where publisher = publishers;\n",
    "        end //\n",
    "    delimiter ; \n",
    "\n",
    "    call jeu_publisher ()\n",
    "````"
   ]
  },
  {
   "cell_type": "markdown",
   "metadata": {},
   "source": [
    "##### affichage des jeux pour une date précise"
   ]
  },
  {
   "cell_type": "markdown",
   "metadata": {},
   "source": [
    "````SQL    \n",
    "    delimiter //\n",
    "        create procedure jeu_date_fixe \n",
    "        (in annee_fixe int (4))\n",
    "        begin \n",
    "            select * \n",
    "            from ventes \n",
    "            where annee = annee_fixe;\n",
    "        end //\n",
    "    delimiter ; \n",
    "    \n",
    "    call jeu_date_fixe ()\n",
    "````"
   ]
  },
  {
   "cell_type": "markdown",
   "metadata": {},
   "source": [
    "##### affichage des jeux qui sont sortis après une date donnée"
   ]
  },
  {
   "cell_type": "markdown",
   "metadata": {},
   "source": [
    "````SQL\n",
    "    delimiter //\n",
    "        create procedure jeu_date_sup \n",
    "        (in annee_sup int (4))\n",
    "        begin \n",
    "            select * \n",
    "            from ventes \n",
    "            where annee > annee_sup;\n",
    "        end //\n",
    "    delimiter ; \n",
    "    \n",
    "    call jeu_date_sup ()\n",
    "````"
   ]
  },
  {
   "cell_type": "markdown",
   "metadata": {},
   "source": [
    "##### affichage des jeux qui sont sortis avant une date donnée"
   ]
  },
  {
   "cell_type": "markdown",
   "metadata": {},
   "source": [
    "````SQL\n",
    "    delimiter //\n",
    "        create procedure jeu_date_inf \n",
    "        (in annee_inf int (4))\n",
    "        begin \n",
    "            select * \n",
    "            from ventes \n",
    "            where annee < annee_inf;\n",
    "        end //\n",
    "    delimiter ; \n",
    "    \n",
    "    call jeu_date_inf ()\n",
    "````"
   ]
  },
  {
   "cell_type": "markdown",
   "metadata": {},
   "source": [
    "##### affichage des jeux dont les ventes globales sont suppérieures à une quantitée donnée"
   ]
  },
  {
   "cell_type": "markdown",
   "metadata": {},
   "source": [
    "````SQL\n",
    "    delimiter //\n",
    "        create procedure jeu_global_sup\n",
    "        (in global_sup int (4))\n",
    "        begin \n",
    "            select * \n",
    "            from ventes \n",
    "            where Global_sales > global_sup;\n",
    "        end //\n",
    "    delimiter ;\n",
    "    \n",
    "    call jeu_global_sup ()\n",
    "````"
   ]
  },
  {
   "cell_type": "markdown",
   "metadata": {},
   "source": [
    "##### affichage des jeux dont les ventes globales sont inférieures à une quantitée donnée"
   ]
  },
  {
   "cell_type": "markdown",
   "metadata": {},
   "source": [
    "````SQL\n",
    "    delimiter //\n",
    "        create procedure jeu_global_inf\n",
    "        (in global_inf int (4))\n",
    "        begin \n",
    "            select * \n",
    "            from ventes \n",
    "            where Global_sales < global_inf;\n",
    "        end //\n",
    "    delimiter ;\n",
    "    \n",
    "    call jeu_global_inf ()\n",
    "````"
   ]
  }
 ],
 "metadata": {
  "kernelspec": {
   "display_name": "Python 3",
   "language": "python",
   "name": "python3"
  },
  "language_info": {
   "codemirror_mode": {
    "name": "ipython",
    "version": 3
   },
   "file_extension": ".py",
   "mimetype": "text/x-python",
   "name": "python",
   "nbconvert_exporter": "python",
   "pygments_lexer": "ipython3",
   "version": "3.8.3"
  }
 },
 "nbformat": 4,
 "nbformat_minor": 4
}
